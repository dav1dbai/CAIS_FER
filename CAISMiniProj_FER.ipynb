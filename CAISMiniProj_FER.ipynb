{
  "nbformat": 4,
  "nbformat_minor": 0,
  "metadata": {
    "colab": {
      "provenance": [],
      "gpuType": "A100",
      "authorship_tag": "ABX9TyMnlHsCvJk+8uiqUGNTCfpb",
      "include_colab_link": true
    },
    "kernelspec": {
      "name": "python3",
      "display_name": "Python 3"
    },
    "language_info": {
      "name": "python"
    },
    "accelerator": "GPU"
  },
  "cells": [
    {
      "cell_type": "markdown",
      "metadata": {
        "id": "view-in-github",
        "colab_type": "text"
      },
      "source": [
        "<a href=\"https://colab.research.google.com/github/dav1dbai/CAIS_FER/blob/main/CAISMiniProj_FER.ipynb\" target=\"_parent\"><img src=\"https://colab.research.google.com/assets/colab-badge.svg\" alt=\"Open In Colab\"/></a>"
      ]
    },
    {
      "cell_type": "code",
      "execution_count": 1,
      "metadata": {
        "colab": {
          "base_uri": "https://localhost:8080/"
        },
        "id": "LTLECTwFVWtT",
        "outputId": "6bfd373c-a119-4440-9c80-15855ea239ad"
      },
      "outputs": [
        {
          "output_type": "stream",
          "name": "stdout",
          "text": [
            "Downloading from https://www.kaggle.com/api/v1/datasets/download/msambare/fer2013?dataset_version_number=1...\n"
          ]
        },
        {
          "output_type": "stream",
          "name": "stderr",
          "text": [
            "100%|██████████| 60.3M/60.3M [00:03<00:00, 17.2MB/s]"
          ]
        },
        {
          "output_type": "stream",
          "name": "stdout",
          "text": [
            "Extracting files...\n"
          ]
        },
        {
          "output_type": "stream",
          "name": "stderr",
          "text": [
            "\n"
          ]
        },
        {
          "output_type": "stream",
          "name": "stdout",
          "text": [
            "Path to dataset files: /root/.cache/kagglehub/datasets/msambare/fer2013/versions/1\n"
          ]
        }
      ],
      "source": [
        "import kagglehub\n",
        "\n",
        "path = kagglehub.dataset_download(\"msambare/fer2013\")\n",
        "\n",
        "print(\"Path to dataset files:\", path)"
      ]
    },
    {
      "cell_type": "code",
      "source": [
        "import pandas as pd\n",
        "import torch\n",
        "from torch import nn\n",
        "from torch.utils.data import Dataset\n",
        "from torchvision import datasets\n",
        "from torchvision.io import read_image\n",
        "from torchvision.transforms import ToTensor\n",
        "from torchvision import transforms\n",
        "import numpy as np\n",
        "import matplotlib.pyplot as plt\n",
        "import os\n",
        "from sklearn.model_selection import train_test_split\n",
        "from torch.utils.data import DataLoader\n",
        "from tqdm import tqdm\n",
        "from sklearn.metrics import f1_score, classification_report"
      ],
      "metadata": {
        "id": "qCKhCF3gVrBR"
      },
      "execution_count": 2,
      "outputs": []
    },
    {
      "cell_type": "code",
      "source": [
        "class ImageDataset(Dataset):\n",
        "    classes = {\n",
        "        'angry': 0,\n",
        "        'disgust': 1,\n",
        "        'fear': 2,\n",
        "        'happy': 3,\n",
        "        'sad': 4,\n",
        "        'surprise': 5,\n",
        "        'neutral': 6\n",
        "    }\n",
        "\n",
        "    def __init__(self, path, is_train=True):\n",
        "        self.labels = []\n",
        "        self.images = []\n",
        "\n",
        "        for filename in os.listdir(path):\n",
        "            if filename in self.classes:\n",
        "                self.label = self.classes[filename]\n",
        "                for filename_ in os.listdir(path + filename):\n",
        "                    self.labels.append(self.label)\n",
        "                    self.images.append(path + filename + '/' + filename_)\n",
        "\n",
        "    def __len__(self):\n",
        "        return len(self.labels)\n",
        "\n",
        "    def __getitem__(self, idx):\n",
        "        label = self.labels[idx]\n",
        "        image_path = self.images[idx]\n",
        "\n",
        "        try:\n",
        "            image = read_image(image_path)\n",
        "\n",
        "            image = image.float()\n",
        "            image = image / 255.0\n",
        "\n",
        "            return label, image\n",
        "\n",
        "        except Exception as e:\n",
        "            print(f\"Error reading image {image_path}: {str(e)}\")\n",
        "            return torch.zeros((1, 48, 48)), label"
      ],
      "metadata": {
        "id": "zLb1_bF8Vzt0"
      },
      "execution_count": 7,
      "outputs": []
    },
    {
      "cell_type": "code",
      "source": [
        "test_dataset = ImageDataset(path+'/test/')\n",
        "print(len(test_dataset))\n",
        "print(test_dataset[0])\n",
        "plt.imshow(test_dataset[0][1].permute(1,2,0), cmap='gray')"
      ],
      "metadata": {
        "colab": {
          "base_uri": "https://localhost:8080/",
          "height": 592
        },
        "id": "fsnYSXF-YbwF",
        "outputId": "d89f29af-df9d-4e3c-aee8-055a90de7ea0"
      },
      "execution_count": 8,
      "outputs": [
        {
          "output_type": "stream",
          "name": "stdout",
          "text": [
            "7178\n",
            "(5, tensor([[[0.0627, 0.1255, 0.1922,  ..., 0.9020, 0.9020, 0.9020],\n",
            "         [0.0824, 0.1255, 0.2314,  ..., 0.9059, 0.9059, 0.9059],\n",
            "         [0.0941, 0.1686, 0.2706,  ..., 0.9059, 0.9059, 0.9059],\n",
            "         ...,\n",
            "         [0.1647, 0.1569, 0.1882,  ..., 0.9098, 0.9098, 0.9098],\n",
            "         [0.1804, 0.1725, 0.1765,  ..., 0.9098, 0.9098, 0.9098],\n",
            "         [0.1490, 0.2039, 0.1569,  ..., 0.9098, 0.9098, 0.9098]]]))\n"
          ]
        },
        {
          "output_type": "execute_result",
          "data": {
            "text/plain": [
              "<matplotlib.image.AxesImage at 0x7f854584ab50>"
            ]
          },
          "metadata": {},
          "execution_count": 8
        },
        {
          "output_type": "display_data",
          "data": {
            "text/plain": [
              "<Figure size 640x480 with 1 Axes>"
            ],
            "image/png": "[encoded data removed]"
          },
          "metadata": {}
        }
      ]
    },
    {
      "cell_type": "code",
      "source": [
        "class ResBlock(nn.Module):\n",
        "    def __init__(self, in_channels, out_channels):\n",
        "        super().__init__()\n",
        "        self.conv1 = nn.Conv2d(in_channels, out_channels, kernel_size=3, padding=1)\n",
        "        self.bn1 = nn.BatchNorm2d(out_channels)\n",
        "        self.relu1 = nn.ReLU()\n",
        "        self.conv2 = nn.Conv2d(out_channels, out_channels, kernel_size=3, padding=1)\n",
        "        self.bn2 = nn.BatchNorm2d(out_channels)\n",
        "        self.relu2 = nn.ReLU()\n",
        "\n",
        "        self.skip = nn.Sequential()\n",
        "        if in_channels != out_channels:\n",
        "            self.skip = nn.Conv2d(in_channels, out_channels, kernel_size=1)\n",
        "\n",
        "    def forward(self, x):\n",
        "        residual = self.skip(x)\n",
        "        out = self.relu1(self.bn1(self.conv1(x)))\n",
        "        out = self.bn2(self.conv2(out))\n",
        "        out += residual\n",
        "        out = self.relu2(out)\n",
        "        return out\n",
        "\n",
        "class model(nn.Module):\n",
        "    def __init__(self):\n",
        "        super().__init__()\n",
        "\n",
        "        self.initial = nn.Sequential(\n",
        "            nn.Conv2d(1, 32, kernel_size=3, padding=1),\n",
        "            nn.BatchNorm2d(32),\n",
        "            nn.ReLU()\n",
        "        )\n",
        "\n",
        "        self.layer1 = ResBlock(32, 32)\n",
        "        self.layer2 = ResBlock(32, 64)\n",
        "        self.layer3 = ResBlock(64, 128)\n",
        "\n",
        "        self.pool = nn.AdaptiveAvgPool2d((6, 6))\n",
        "\n",
        "        self.fc = nn.Sequential(\n",
        "            nn.Dropout(0.5),\n",
        "            nn.Linear(128 * 6 * 6, 512),\n",
        "            nn.ReLU(),\n",
        "            nn.Dropout(0.5),\n",
        "            nn.Linear(512, 7)\n",
        "        )\n",
        "\n",
        "    def forward(self, x):\n",
        "        x = self.initial(x)\n",
        "        x = self.layer1(x)\n",
        "        x = self.layer2(x)\n",
        "        x = self.layer3(x)\n",
        "        x = self.pool(x)\n",
        "        x = x.view(x.size(0), -1)\n",
        "        x = self.fc(x)\n",
        "        return x"
      ],
      "metadata": {
        "id": "xPja8cDqakz6"
      },
      "execution_count": 17,
      "outputs": []
    },
    {
      "cell_type": "code",
      "source": [
        "def prepare_dataloaders(path, batch_size=8):\n",
        "\n",
        "    train_dataset = ImageDataset(path + '/train/')\n",
        "    test_dataset = ImageDataset(path + '/test/', is_train=False)\n",
        "\n",
        "\n",
        "    train_labels = [label for label, _ in train_dataset]\n",
        "\n",
        "\n",
        "    train_indices, val_indices = train_test_split(\n",
        "        range(len(train_dataset)),\n",
        "        train_size=0.7,\n",
        "        stratify=train_labels,\n",
        "        random_state=42\n",
        "    )\n",
        "\n",
        "\n",
        "    train_subset = torch.utils.data.Subset(train_dataset, train_indices)\n",
        "    val_subset = torch.utils.data.Subset(train_dataset, val_indices)\n",
        "\n",
        "\n",
        "    train_dataloader = DataLoader(train_subset, batch_size=batch_size, shuffle=True)\n",
        "    val_dataloader = DataLoader(val_subset, batch_size=batch_size, shuffle=False)\n",
        "    test_dataloader = DataLoader(test_dataset, batch_size=batch_size, shuffle=False)\n",
        "\n",
        "    print(\"Dataset splits (Train/Val/Test):\",\n",
        "          len(train_subset), len(val_subset), len(test_dataset))\n",
        "\n",
        "    return train_dataloader, val_dataloader, test_dataloader"
      ],
      "metadata": {
        "id": "bGkxmMhBZ3rI"
      },
      "execution_count": 10,
      "outputs": []
    },
    {
      "cell_type": "code",
      "source": [
        "def train_model(train_dataloader, val_dataloader, model):\n",
        "    optimizer = torch.optim.AdamW(params=model.parameters(), lr=0.0001)\n",
        "    loss_fn = nn.CrossEntropyLoss()\n",
        "    epochs = 20\n",
        "    device = \"cuda\" if torch.cuda.is_available() else \"cpu\"\n",
        "    model.to(device)\n",
        "\n",
        "\n",
        "    best_val_acc = 0\n",
        "\n",
        "    for epoch in range(epochs):\n",
        "        model.train()\n",
        "        train_loss, train_acc = 0, 0\n",
        "        num_train_samples = 0\n",
        "\n",
        "        train_bar = tqdm(train_dataloader, desc=f\"Epoch {epoch+1} Training\",\n",
        "                        leave=False)\n",
        "\n",
        "        for batch, (label,img) in enumerate(train_bar):\n",
        "            label, img = label.to(device), img.to(device)\n",
        "            batch_size = img.size(0)\n",
        "\n",
        "            optimizer.zero_grad()\n",
        "            logits = model(img)\n",
        "            loss = loss_fn(logits, label)\n",
        "\n",
        "            loss.backward()\n",
        "            optimizer.step()\n",
        "\n",
        "            pred = logits.argmax(dim=1)\n",
        "            batch_acc = (pred == label).sum().item()\n",
        "\n",
        "            train_loss += loss.item() * batch_size\n",
        "            train_acc += batch_acc\n",
        "            num_train_samples += batch_size\n",
        "\n",
        "            train_bar.set_postfix({\n",
        "                'loss': f'{loss.item():.4f}',\n",
        "                'acc': f'{batch_acc/batch_size:.4f}'\n",
        "            })\n",
        "\n",
        "        train_loss = train_loss / num_train_samples\n",
        "        train_acc = train_acc / num_train_samples\n",
        "\n",
        "        print(f\"Epoch {epoch+1}: Train Loss: {train_loss:.4f}, Train Acc: {train_acc:.4f}\")\n",
        "\n",
        "        model.eval()\n",
        "        val_loss, val_acc = 0, 0\n",
        "        num_val_samples = 0\n",
        "\n",
        "        with torch.no_grad():\n",
        "            val_bar = tqdm(val_dataloader, desc=f\"Epoch {epoch+1} Validation\",\n",
        "                          leave=False)\n",
        "\n",
        "            for batch, (label, img) in enumerate(val_bar):\n",
        "                img, label = img.to(device), label.to(device)\n",
        "                batch_size = img.size(0)\n",
        "\n",
        "                logits = model(img)\n",
        "                loss = loss_fn(logits, label)\n",
        "\n",
        "                pred = logits.argmax(dim=1)\n",
        "                batch_acc = (pred == label).sum().item()\n",
        "\n",
        "                val_loss += loss.item() * batch_size\n",
        "                val_acc += batch_acc\n",
        "                num_val_samples += batch_size\n",
        "\n",
        "                val_bar.set_postfix({\n",
        "                    'loss': f'{loss.item():.4f}',\n",
        "                    'acc': f'{batch_acc/batch_size:.4f}'\n",
        "                })\n",
        "\n",
        "        val_loss = val_loss / num_val_samples\n",
        "        val_acc = val_acc / num_val_samples\n",
        "\n",
        "        print(f\"Epoch {epoch+1}: Val Loss: {val_loss:.4f}, Val Acc: {val_acc:.4f}\")\n",
        "\n",
        "        if val_acc > best_val_acc:\n",
        "            best_val_acc = val_acc\n",
        "            torch.save(model.state_dict(), 'best_model.pth')\n",
        "\n",
        "    return model"
      ],
      "metadata": {
        "id": "9UJ4aNeJajBO"
      },
      "execution_count": 11,
      "outputs": []
    },
    {
      "cell_type": "code",
      "source": [
        "def test_model(test_dataloader, model):\n",
        "    device = \"cuda\" if torch.cuda.is_available() else \"cpu\"\n",
        "    loss_fn = nn.CrossEntropyLoss()\n",
        "    model.to(device)\n",
        "    model.eval()\n",
        "    test_loss, test_acc = 0, 0\n",
        "\n",
        "    all_preds = []\n",
        "    all_labels = []\n",
        "\n",
        "    with torch.no_grad():\n",
        "        for batch, (label, img) in enumerate(test_dataloader):\n",
        "            img, label = img.to(device), label.to(device)\n",
        "            logits = model(img)\n",
        "            loss = loss_fn(logits, label)\n",
        "            test_loss += loss.item()\n",
        "            pred = logits.argmax(dim=1)\n",
        "            test_acc += (pred == label).sum().item()/len(pred)\n",
        "\n",
        "            all_preds.extend(pred.cpu().numpy())\n",
        "            all_labels.extend(label.cpu().numpy())\n",
        "\n",
        "        test_loss /= len(test_dataloader)\n",
        "        test_acc /= len(test_dataloader)\n",
        "\n",
        "        weighted_f1 = f1_score(all_labels, all_preds, average='weighted')\n",
        "\n",
        "        class_names = ['angry', 'disgust', 'fear', 'happy', 'sad', 'surprise', 'neutral']\n",
        "        report = classification_report(all_labels, all_preds, target_names=class_names)\n",
        "\n",
        "        print(f\"Test Loss: {test_loss:.4f}, Test Acc: {test_acc:.4f}, Weighted F1: {weighted_f1:.4f}\")\n",
        "        print(\"\\nDetailed Classification Report:\")\n",
        "        print(report)\n",
        "\n",
        "    return test_loss, test_acc, weighted_f1, report"
      ],
      "metadata": {
        "id": "gBd2BolyhYY3"
      },
      "execution_count": 12,
      "outputs": []
    },
    {
      "cell_type": "code",
      "source": [
        "train_dataloader, val_dataloader, test_dataloader = prepare_dataloaders(path)"
      ],
      "metadata": {
        "colab": {
          "base_uri": "https://localhost:8080/"
        },
        "id": "2OX0619fymLQ",
        "outputId": "e9b8ca16-441f-4238-a1f3-a9a789edaac3"
      },
      "execution_count": 13,
      "outputs": [
        {
          "output_type": "stream",
          "name": "stdout",
          "text": [
            "Dataset splits (Train/Val/Test): 20096 8613 7178\n"
          ]
        }
      ]
    },
    {
      "cell_type": "code",
      "source": [
        "if __name__ == \"__main__\":\n",
        "  model_instance = model()\n",
        "  trained_model = train_model(train_dataloader, val_dataloader, model_instance)\n",
        "  test_model(test_dataloader, trained_model)"
      ],
      "metadata": {
        "colab": {
          "base_uri": "https://localhost:8080/"
        },
        "id": "rNaVeSSpg2lG",
        "outputId": "20cc162a-3c9c-4ccd-c2e9-d13371c8ccd9"
      },
      "execution_count": 18,
      "outputs": [
        {
          "output_type": "stream",
          "name": "stderr",
          "text": []
        },
        {
          "output_type": "stream",
          "name": "stdout",
          "text": [
            "Epoch 1: Train Loss: 1.6096, Train Acc: 0.3657\n"
          ]
        },
        {
          "output_type": "stream",
          "name": "stderr",
          "text": []
        },
        {
          "output_type": "stream",
          "name": "stdout",
          "text": [
            "Epoch 1: Val Loss: 1.4279, Val Acc: 0.4463\n"
          ]
        },
        {
          "output_type": "stream",
          "name": "stderr",
          "text": []
        },
        {
          "output_type": "stream",
          "name": "stdout",
          "text": [
            "Epoch 2: Train Loss: 1.3945, Train Acc: 0.4626\n"
          ]
        },
        {
          "output_type": "stream",
          "name": "stderr",
          "text": []
        },
        {
          "output_type": "stream",
          "name": "stdout",
          "text": [
            "Epoch 2: Val Loss: 1.2980, Val Acc: 0.5020\n"
          ]
        },
        {
          "output_type": "stream",
          "name": "stderr",
          "text": []
        },
        {
          "output_type": "stream",
          "name": "stdout",
          "text": [
            "Epoch 3: Train Loss: 1.3079, Train Acc: 0.5024\n"
          ]
        },
        {
          "output_type": "stream",
          "name": "stderr",
          "text": []
        },
        {
          "output_type": "stream",
          "name": "stdout",
          "text": [
            "Epoch 3: Val Loss: 1.2574, Val Acc: 0.5142\n"
          ]
        },
        {
          "output_type": "stream",
          "name": "stderr",
          "text": []
        },
        {
          "output_type": "stream",
          "name": "stdout",
          "text": [
            "Epoch 4: Train Loss: 1.2422, Train Acc: 0.5294\n"
          ]
        },
        {
          "output_type": "stream",
          "name": "stderr",
          "text": []
        },
        {
          "output_type": "stream",
          "name": "stdout",
          "text": [
            "Epoch 4: Val Loss: 1.2147, Val Acc: 0.5388\n"
          ]
        },
        {
          "output_type": "stream",
          "name": "stderr",
          "text": []
        },
        {
          "output_type": "stream",
          "name": "stdout",
          "text": [
            "Epoch 5: Train Loss: 1.1854, Train Acc: 0.5466\n"
          ]
        },
        {
          "output_type": "stream",
          "name": "stderr",
          "text": []
        },
        {
          "output_type": "stream",
          "name": "stdout",
          "text": [
            "Epoch 5: Val Loss: 1.1584, Val Acc: 0.5567\n"
          ]
        },
        {
          "output_type": "stream",
          "name": "stderr",
          "text": []
        },
        {
          "output_type": "stream",
          "name": "stdout",
          "text": [
            "Epoch 6: Train Loss: 1.1439, Train Acc: 0.5695\n"
          ]
        },
        {
          "output_type": "stream",
          "name": "stderr",
          "text": []
        },
        {
          "output_type": "stream",
          "name": "stdout",
          "text": [
            "Epoch 6: Val Loss: 1.1500, Val Acc: 0.5607\n"
          ]
        },
        {
          "output_type": "stream",
          "name": "stderr",
          "text": []
        },
        {
          "output_type": "stream",
          "name": "stdout",
          "text": [
            "Epoch 7: Train Loss: 1.1041, Train Acc: 0.5840\n"
          ]
        },
        {
          "output_type": "stream",
          "name": "stderr",
          "text": []
        },
        {
          "output_type": "stream",
          "name": "stdout",
          "text": [
            "Epoch 7: Val Loss: 1.1099, Val Acc: 0.5776\n"
          ]
        },
        {
          "output_type": "stream",
          "name": "stderr",
          "text": []
        },
        {
          "output_type": "stream",
          "name": "stdout",
          "text": [
            "Epoch 8: Train Loss: 1.0715, Train Acc: 0.5967\n"
          ]
        },
        {
          "output_type": "stream",
          "name": "stderr",
          "text": []
        },
        {
          "output_type": "stream",
          "name": "stdout",
          "text": [
            "Epoch 8: Val Loss: 1.1016, Val Acc: 0.5848\n"
          ]
        },
        {
          "output_type": "stream",
          "name": "stderr",
          "text": []
        },
        {
          "output_type": "stream",
          "name": "stdout",
          "text": [
            "Epoch 9: Train Loss: 1.0394, Train Acc: 0.6091\n"
          ]
        },
        {
          "output_type": "stream",
          "name": "stderr",
          "text": []
        },
        {
          "output_type": "stream",
          "name": "stdout",
          "text": [
            "Epoch 9: Val Loss: 1.0928, Val Acc: 0.5881\n"
          ]
        },
        {
          "output_type": "stream",
          "name": "stderr",
          "text": []
        },
        {
          "output_type": "stream",
          "name": "stdout",
          "text": [
            "Epoch 10: Train Loss: 1.0087, Train Acc: 0.6213\n"
          ]
        },
        {
          "output_type": "stream",
          "name": "stderr",
          "text": []
        },
        {
          "output_type": "stream",
          "name": "stdout",
          "text": [
            "Epoch 10: Val Loss: 1.0975, Val Acc: 0.5902\n"
          ]
        },
        {
          "output_type": "stream",
          "name": "stderr",
          "text": []
        },
        {
          "output_type": "stream",
          "name": "stdout",
          "text": [
            "Epoch 11: Train Loss: 0.9781, Train Acc: 0.6306\n"
          ]
        },
        {
          "output_type": "stream",
          "name": "stderr",
          "text": []
        },
        {
          "output_type": "stream",
          "name": "stdout",
          "text": [
            "Epoch 11: Val Loss: 1.0836, Val Acc: 0.5934\n"
          ]
        },
        {
          "output_type": "stream",
          "name": "stderr",
          "text": []
        },
        {
          "output_type": "stream",
          "name": "stdout",
          "text": [
            "Epoch 12: Train Loss: 0.9529, Train Acc: 0.6411\n"
          ]
        },
        {
          "output_type": "stream",
          "name": "stderr",
          "text": []
        },
        {
          "output_type": "stream",
          "name": "stdout",
          "text": [
            "Epoch 12: Val Loss: 1.0666, Val Acc: 0.5987\n"
          ]
        },
        {
          "output_type": "stream",
          "name": "stderr",
          "text": []
        },
        {
          "output_type": "stream",
          "name": "stdout",
          "text": [
            "Epoch 13: Train Loss: 0.9255, Train Acc: 0.6512\n"
          ]
        },
        {
          "output_type": "stream",
          "name": "stderr",
          "text": []
        },
        {
          "output_type": "stream",
          "name": "stdout",
          "text": [
            "Epoch 13: Val Loss: 1.0547, Val Acc: 0.6058\n"
          ]
        },
        {
          "output_type": "stream",
          "name": "stderr",
          "text": []
        },
        {
          "output_type": "stream",
          "name": "stdout",
          "text": [
            "Epoch 14: Train Loss: 0.9018, Train Acc: 0.6607\n"
          ]
        },
        {
          "output_type": "stream",
          "name": "stderr",
          "text": []
        },
        {
          "output_type": "stream",
          "name": "stdout",
          "text": [
            "Epoch 14: Val Loss: 1.0530, Val Acc: 0.6084\n"
          ]
        },
        {
          "output_type": "stream",
          "name": "stderr",
          "text": []
        },
        {
          "output_type": "stream",
          "name": "stdout",
          "text": [
            "Epoch 15: Train Loss: 0.8746, Train Acc: 0.6714\n"
          ]
        },
        {
          "output_type": "stream",
          "name": "stderr",
          "text": []
        },
        {
          "output_type": "stream",
          "name": "stdout",
          "text": [
            "Epoch 15: Val Loss: 1.0639, Val Acc: 0.6042\n"
          ]
        },
        {
          "output_type": "stream",
          "name": "stderr",
          "text": []
        },
        {
          "output_type": "stream",
          "name": "stdout",
          "text": [
            "Epoch 16: Train Loss: 0.8469, Train Acc: 0.6812\n"
          ]
        },
        {
          "output_type": "stream",
          "name": "stderr",
          "text": []
        },
        {
          "output_type": "stream",
          "name": "stdout",
          "text": [
            "Epoch 16: Val Loss: 1.0505, Val Acc: 0.6112\n"
          ]
        },
        {
          "output_type": "stream",
          "name": "stderr",
          "text": []
        },
        {
          "output_type": "stream",
          "name": "stdout",
          "text": [
            "Epoch 17: Train Loss: 0.8267, Train Acc: 0.6915\n"
          ]
        },
        {
          "output_type": "stream",
          "name": "stderr",
          "text": []
        },
        {
          "output_type": "stream",
          "name": "stdout",
          "text": [
            "Epoch 17: Val Loss: 1.0454, Val Acc: 0.6170\n"
          ]
        },
        {
          "output_type": "stream",
          "name": "stderr",
          "text": []
        },
        {
          "output_type": "stream",
          "name": "stdout",
          "text": [
            "Epoch 18: Train Loss: 0.7977, Train Acc: 0.7024\n"
          ]
        },
        {
          "output_type": "stream",
          "name": "stderr",
          "text": []
        },
        {
          "output_type": "stream",
          "name": "stdout",
          "text": [
            "Epoch 18: Val Loss: 1.0709, Val Acc: 0.6098\n"
          ]
        },
        {
          "output_type": "stream",
          "name": "stderr",
          "text": []
        },
        {
          "output_type": "stream",
          "name": "stdout",
          "text": [
            "Epoch 19: Train Loss: 0.7749, Train Acc: 0.7137\n"
          ]
        },
        {
          "output_type": "stream",
          "name": "stderr",
          "text": []
        },
        {
          "output_type": "stream",
          "name": "stdout",
          "text": [
            "Epoch 19: Val Loss: 1.0798, Val Acc: 0.6196\n"
          ]
        },
        {
          "output_type": "stream",
          "name": "stderr",
          "text": []
        },
        {
          "output_type": "stream",
          "name": "stdout",
          "text": [
            "Epoch 20: Train Loss: 0.7611, Train Acc: 0.7178\n"
          ]
        },
        {
          "output_type": "stream",
          "name": "stderr",
          "text": []
        },
        {
          "output_type": "stream",
          "name": "stdout",
          "text": [
            "Epoch 20: Val Loss: 1.0497, Val Acc: 0.6166\n",
            "Test Loss: 1.0681, Test Acc: 0.6116, Weighted F1: 0.6104\n",
            "\n",
            "Detailed Classification Report:\n",
            "              precision    recall  f1-score   support\n",
            "\n",
            "       angry       0.51      0.53      0.52       958\n",
            "     disgust       0.68      0.49      0.57       111\n",
            "        fear       0.46      0.36      0.40      1024\n",
            "       happy       0.84      0.82      0.83      1774\n",
            "         sad       0.45      0.50      0.47      1247\n",
            "    surprise       0.75      0.75      0.75       831\n",
            "     neutral       0.56      0.62      0.59      1233\n",
            "\n",
            "    accuracy                           0.61      7178\n",
            "   macro avg       0.61      0.58      0.59      7178\n",
            "weighted avg       0.61      0.61      0.61      7178\n",
            "\n"
          ]
        }
      ]
    },
    {
      "cell_type": "code",
      "source": [],
      "metadata": {
        "id": "51E7pxt5lLYW"
      },
      "execution_count": null,
      "outputs": []
    }
  ]
}